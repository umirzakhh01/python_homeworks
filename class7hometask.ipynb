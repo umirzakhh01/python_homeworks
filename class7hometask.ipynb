{
 "cells": [
  {
   "cell_type": "code",
   "execution_count": null,
   "metadata": {},
   "outputs": [],
   "source": [
    "# 1\n",
    "a = int(input('Enter the first number: '))\n",
    "b = int(input('Enter the second number: '))\n",
    "c = int(input('Enter the third number: '))\n",
    "\n",
    "def find_max(a, b, c):\n",
    "    if a >= b and a >=c:\n",
    "        return a\n",
    "    elif b >=a and b >= c:\n",
    "        return b\n",
    "    else:\n",
    "        return c\n",
    "print(f'Numbers you entered: {a}, {b}, {c}')\n",
    "\n",
    "print(f'The maximum of 3 numbers that you entered is: {find_max(a, b, c)}')    "
   ]
  },
  {
   "cell_type": "code",
   "execution_count": null,
   "metadata": {},
   "outputs": [],
   "source": [
    "# 2\n",
    "sample_list = (8, 2, 3, 0, 7)\n",
    "\n",
    "def sum(sample_list):\n",
    "    total = 0\n",
    "    for x in sample_list:\n",
    "        total = total + x\n",
    "    return(total)\n",
    "print(sum(sample_list))    "
   ]
  },
  {
   "cell_type": "code",
   "execution_count": null,
   "metadata": {},
   "outputs": [],
   "source": [
    "# 3\n",
    "sample_list = (8, 2, 3, -1, 7)\n",
    "\n",
    "def multiplied(sample_list):\n",
    "    result = 1\n",
    "    for numbers in sample_list:\n",
    "        result = result * numbers\n",
    "    return result    \n",
    "print(multiplied(sample_list))"
   ]
  },
  {
   "cell_type": "code",
   "execution_count": null,
   "metadata": {},
   "outputs": [],
   "source": [
    "# 4\n",
    "sample_string = ('1234abcd')\n",
    "def reverse_string(sample_string):\n",
    "    return sample_string[::-1]\n",
    "\n",
    "\n",
    "print(reverse_string(sample_string))"
   ]
  },
  {
   "cell_type": "code",
   "execution_count": null,
   "metadata": {},
   "outputs": [],
   "source": [
    "# 5\n",
    "n = int(input('Enter the non-negative number: '))\n",
    "\n",
    "def factorial(n):\n",
    "    if n < 0:\n",
    "        return 'I said non-negative, dude!'\n",
    "    if n == 0 or n == 1:\n",
    "        return 1\n",
    "    result = 1\n",
    "    for i in range(2, n + 1):\n",
    "        result *= i \n",
    "    return result\n",
    "\n",
    "print(factorial(n))\n",
    "\n"
   ]
  },
  {
   "cell_type": "code",
   "execution_count": null,
   "metadata": {},
   "outputs": [],
   "source": [
    "# 6\n",
    "starting_range = int(input('Enter the starting range: '))\n",
    "ending_range = int(input('Enter the ending range: '))\n",
    "value = int(input('Enter the value that you want to find out: '))\n",
    "\n",
    "def check_range(value, starting_range, ending_range):\n",
    "    if starting_range <= value <= ending_range:\n",
    "        print(f'{value} is in the range {starting_range} to {ending_range}.')\n",
    "    else:\n",
    "        print(f'{value} is not in the range' )\n",
    "(check_range(value, starting_range, ending_range))"
   ]
  },
  {
   "cell_type": "code",
   "execution_count": null,
   "metadata": {},
   "outputs": [],
   "source": [
    "# 7\n",
    "s = ('The quick Brown Fox') \n",
    "def string_test(s):\n",
    "    upper_count = 0\n",
    "    lower_count = 0\n",
    "\n",
    "    for char in s:\n",
    "        if char.isupper():\n",
    "            upper_count += 1\n",
    "        elif char.islower():\n",
    "            lower_count +=1\n",
    "    print(f'No. of Upper case characters : {upper_count}')\n",
    "    print(f'No. of Lower case characters : {lower_count}')\n",
    "\n",
    "string_test(s)\n"
   ]
  },
  {
   "cell_type": "code",
   "execution_count": null,
   "metadata": {},
   "outputs": [],
   "source": [
    "# 8\n",
    "def get_unique_elements(lst):\n",
    "   \n",
    "    \n",
    "    return list(set(lst))  \n",
    "\n",
    "\n",
    "sample_list = [1, 2, 3, 3, 3, 3, 4, 5]\n",
    "unique_list = get_unique_elements(sample_list)\n",
    "print(f\"Unique List: {unique_list}\")"
   ]
  }
 ],
 "metadata": {
  "language_info": {
   "name": "python"
  }
 },
 "nbformat": 4,
 "nbformat_minor": 2
}
