{
 "cells": [
  {
   "cell_type": "code",
   "execution_count": 1,
   "metadata": {},
   "outputs": [
    {
     "name": "stdout",
     "output_type": "stream",
     "text": [
      "['rice', 'beans']\n",
      "pizza\n",
      "True\n",
      "Food list: ['rice', 'beans', 'broccoli', 'bread', 'pizza']\n",
      "Breakfast list: ['eggs', 'fruit', 'orange juice']\n",
      "Lengths of breakfast items: [4, 5, 12]\n"
     ]
    }
   ],
   "source": [
    "#1\n",
    "food = [\"rice\", \"beans\"]\n",
    "#2\n",
    "food.append(\"broccoli\")\n",
    "#3\n",
    "food.extend([\"bread\", \"pizza\"])\n",
    "#4\n",
    "print(food[:2])\n",
    "\n",
    "#5\n",
    "print(food[-1])\n",
    "#6\n",
    "breakfast = \"eggs, fruit, orange juice\".split(\", \")\n",
    "\n",
    "#7\n",
    "print(len(breakfast) == 3)  \n",
    "#8\n",
    "lengths = [len(item) for item in breakfast]\n",
    "\n",
    "\n",
    "print(\"Food list:\", food)\n",
    "print(\"Breakfast list:\", breakfast)\n",
    "print(\"Lengths of breakfast items:\", lengths)\n"
   ]
  }
 ],
 "metadata": {
  "kernelspec": {
   "display_name": "Python 3",
   "language": "python",
   "name": "python3"
  },
  "language_info": {
   "codemirror_mode": {
    "name": "ipython",
    "version": 3
   },
   "file_extension": ".py",
   "mimetype": "text/x-python",
   "name": "python",
   "nbconvert_exporter": "python",
   "pygments_lexer": "ipython3",
   "version": "3.12.8"
  }
 },
 "nbformat": 4,
 "nbformat_minor": 2
}
