{
 "cells": [
  {
   "cell_type": "code",
   "execution_count": null,
   "metadata": {},
   "outputs": [],
   "source": [
    "# 1. Given a list of tuples where each tuple contains a name and a score, \n",
    "# create a new list that contains the names of students who scored above 80.\n",
    "# Example input: [('Mike', 75), ('Joe', 90), ('Beck', 85)]\n",
    "# Expected output: ['Joe', 'Beck']\n",
    "\n",
    "# 2. Given a tuple with several lists inside it, \n",
    "# write a function to return the list with the maximum sum of its elements.\n",
    "# Example input: ([1, 2], [3, 4], [5, 6, 7])\n",
    "# Expected output: [5, 6, 7]\n",
    "\n",
    "\n",
    "# 3. Given a list of tuples with names and ages, \n",
    "# return a list of names where the age is greater than 30 and less than 50.\n",
    "# Example input: [('Mike', 25), ('Joe', 31), ('Beck', 40)]\n",
    "# Expected output: ['Joe', 'Beck']\n",
    "\n",
    "\n",
    "# 4. Given a list of integers, \n",
    "# write a function to return a list of tuples where the first element is the number \n",
    "# and the second is 'Even' or 'Odd' depending on whether the number is even or odd.\n",
    "# Example input: [1, 2, 3, 4]\n",
    "# Expected output: [(1, 'Odd'), (2, 'Even'), (3, 'Odd'), (4, 'Even')]\n",
    "\n",
    "\n",
    "# 5. Given a list of tuples containing a string and an integer, \n",
    "# write a function that returns a tuple of the string with the largest length \n",
    "# and its corresponding integer. If two strings have the same length, \n",
    "# choose the one with the larger integer.\n",
    "# Example input: [('apple', 5), ('banana', 4), ('cherry', 6)]\n",
    "# Expected output: ('apple', 5)\n",
    "\n",
    "\n",
    "# 6. Given a list of tuples where each tuple contains a date (as a string in 'YYYY-MM-DD' format) and an event, \n",
    "# return the list of events in the order of the most recent dates.\n",
    "# Example input: [('2024-12-01', 'Event A'), ('2025-01-01', 'Event B')]\n",
    "# Expected output: [('2025-01-01', 'Event B'), ('2024-12-01', 'Event A')]\n",
    "\n",
    "# 7. Given a list of tuples where each tuple contains a name and a score, \n",
    "# return the highest score and the corresponding name.\n",
    "# Example input: [('Mike', 75), ('Joe', 90), ('Beck', 85)]\n",
    "# Expected output: ('Joe', 90)\n",
    "\n",
    "\n",
    "# 8. Given a list of tuples where each tuple contains a product name and its price, \n",
    "# write a function to return a list of products whose price is between 50 and 100.\n",
    "# Example input: [('product1', 45), ('product2', 60), ('product3', 120)]\n",
    "# Expected output: [('product2', 60)]\n",
    "\n",
    "\n",
    "# 9. Given a list of tuples where each tuple contains a person's name and their age, \n",
    "# return the name of the oldest person in the list.\n",
    "# Example input: [('Mike', 25), ('Joe', 31), ('Beck', 40)]\n",
    "# Expected output: 'Beck'\n",
    "\n",
    "\n",
    "# 10. Given a list of tuples containing a student's name and their grades in multiple subjects, \n",
    "# return the names of students who have an average grade greater than 80.\n",
    "# Example input: [('Mike', [85, 75, 90]), ('Joe', [70, 80, 60])]\n",
    "# Expected output: ['Mike']\n"
   ]
  },
  {
   "cell_type": "code",
   "execution_count": 6,
   "metadata": {},
   "outputs": [
    {
     "name": "stdout",
     "output_type": "stream",
     "text": [
      "['Joe', 'Beck']\n",
      "[5, 6, 7]\n",
      "['Joe', 'Beck']\n",
      "[(1, 'Odd'), (2, 'Even'), (3, 'Odd'), (4, 'Even')]\n",
      "('cherry', 6)\n",
      "[('2025-01-01', 'Event B'), ('2024-12-01', 'Event A')]\n",
      "('Joe', 90)\n",
      "[('product2', 60)]\n",
      "Beck\n",
      "['Mike']\n"
     ]
    }
   ],
   "source": [
    "# 1\n",
    "students = [('Mike', 75), ('Joe', 90), ('Beck', 85)]\n",
    "above_80 = [name for name, score in students if score > 80]\n",
    "print(above_80) \n",
    "\n",
    "# 2\n",
    "def max_sum_list(*lists):\n",
    "    return max(lists, key=sum)\n",
    "\n",
    "result = max_sum_list([1, 2], [3, 4], [5, 6, 7])\n",
    "print(result) \n",
    "\n",
    "# 3\n",
    "people = [('Mike', 25), ('Joe', 31), ('Beck', 40)]\n",
    "filtered_names = [name for name, age in people if 30 < age  < 50]\n",
    "print(filtered_names)  \n",
    "\n",
    "# 4\n",
    "def even_odd_tuples(numbers):\n",
    "    return [(num, 'Even' if num % 2 == 0 else 'Odd') for num in numbers]\n",
    "\n",
    "result = even_odd_tuples([1, 2, 3, 4])\n",
    "print(result)  \n",
    "\n",
    "# 5\n",
    "def longest_string_with_integer(pairs):\n",
    "    return max(pairs, key=lambda x: (len(x[0]), x[1]))\n",
    "\n",
    "result = longest_string_with_integer([('apple', 5), ('banana', 4), ('cherry', 6)])\n",
    "print(result)  \n",
    "\n",
    "# 6\n",
    "events = [('2024-12-01', 'Event A'), ('2025-01-01', 'Event B')]\n",
    "sorted_events = sorted(events, key=lambda x: x[0], reverse=True)\n",
    "print(sorted_events) \n",
    "\n",
    "# 7\n",
    "students = [('Mike', 75), ('Joe', 90), ('Beck', 85)]\n",
    "highest_score = max(students, key=lambda x: x[1])\n",
    "print(highest_score)  \n",
    "\n",
    "# 8\n",
    "products = [('product1', 45), ('product2', 60), ('product3', 120)]\n",
    "filtered_products = [product for product in products if 50 <= product[1] <= 100]\n",
    "print(filtered_products)  \n",
    "\n",
    "# 9\n",
    "people = [('Mike', 25), ('Joe', 31), ('Beck', 40)]\n",
    "oldest_person = max(people, key=lambda x: x[1])[0]\n",
    "print(oldest_person)  \n",
    "\n",
    "# 10\n",
    "students = [('Mike', [85, 75, 90]), ('Joe', [70, 80, 60])]\n",
    "above_80 = [name for name, grades in students if sum(grades) / len(grades) > 80]\n",
    "print(above_80)  \n"
   ]
  },
  {
   "cell_type": "code",
   "execution_count": 4,
   "metadata": {},
   "outputs": [
    {
     "name": "stdout",
     "output_type": "stream",
     "text": [
      "Recursion Example Results:\n"
     ]
    },
    {
     "data": {
      "text/plain": [
       "6"
      ]
     },
     "execution_count": 4,
     "metadata": {},
     "output_type": "execute_result"
    }
   ],
   "source": []
  },
  {
   "cell_type": "code",
   "execution_count": null,
   "metadata": {},
   "outputs": [],
   "source": []
  }
 ],
 "metadata": {
  "kernelspec": {
   "display_name": "Python 3",
   "language": "python",
   "name": "python3"
  },
  "language_info": {
   "codemirror_mode": {
    "name": "ipython",
    "version": 3
   },
   "file_extension": ".py",
   "mimetype": "text/x-python",
   "name": "python",
   "nbconvert_exporter": "python",
   "pygments_lexer": "ipython3",
   "version": "3.12.8"
  }
 },
 "nbformat": 4,
 "nbformat_minor": 2
}
