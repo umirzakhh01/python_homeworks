{
 "cells": [
  {
   "cell_type": "code",
   "execution_count": 1,
   "metadata": {},
   "outputs": [
    {
     "name": "stdout",
     "output_type": "stream",
     "text": [
      "Umurzoq\n"
     ]
    }
   ],
   "source": [
    "# class 2 hometask\n",
    "# 2.1. write a code that asks the fullname of the user and returns their name in reverse order\n",
    "# 2.2. Then it should return only the first name from the given input, on condition that the \n",
    "# user enters their lastname first \n",
    "# and after space their firstname\n",
    "\n",
    "\n",
    "# 2.1\n",
    "full_name = input('Enter you full name!')\n",
    "full_name[::-1]\n",
    "\n",
    "# 2.2\n",
    "first_name = full_name.split()\n",
    "print(first_name[-1])\n"
   ]
  }
 ],
 "metadata": {
  "kernelspec": {
   "display_name": "Python 3",
   "language": "python",
   "name": "python3"
  },
  "language_info": {
   "codemirror_mode": {
    "name": "ipython",
    "version": 3
   },
   "file_extension": ".py",
   "mimetype": "text/x-python",
   "name": "python",
   "nbconvert_exporter": "python",
   "pygments_lexer": "ipython3",
   "version": "3.12.8"
  }
 },
 "nbformat": 4,
 "nbformat_minor": 2
}
